{
 "cells": [
  {
   "cell_type": "markdown",
   "id": "1p2m9jZsL5kp",
   "metadata": {
    "id": "1p2m9jZsL5kp"
   },
   "source": [
    "#Q4"
   ]
  },
  {
   "cell_type": "code",
   "execution_count": 2,
   "id": "pDK_aA3B6Rkf",
   "metadata": {
    "id": "pDK_aA3B6Rkf"
   },
   "outputs": [],
   "source": [
    "import pickle\n",
    "import librosa\n",
    "import numpy as np\n",
    "from itertools import combinations\n",
    "import random\n",
    "import tensorflow as tf\n",
    "from tensorflow.keras import layers\n",
    "from tensorflow.keras import backend as K\n",
    "from sklearn.model_selection import train_test_split"
   ]
  },
  {
   "cell_type": "code",
   "execution_count": 3,
   "id": "d3ScoybB6Pdd",
   "metadata": {
    "id": "d3ScoybB6Pdd"
   },
   "outputs": [],
   "source": [
    "with open('trs.pkl', 'rb') as f:\n",
    "    training_data = pickle.load(f)\n",
    "with open('tes.pkl', 'rb') as f:\n",
    "    testing_data = pickle.load(f)"
   ]
  },
  {
   "cell_type": "code",
   "execution_count": 8,
   "id": "2jEYOYHvFRWO",
   "metadata": {
    "id": "2jEYOYHvFRWO"
   },
   "outputs": [],
   "source": [
    "def normalize_spectrograms(spectrograms):\n",
    "    scaler = StandardScaler()\n",
    "    flattened = spectrograms.reshape(-1, spectrograms.shape[-1])\n",
    "    normalized_flattened = scaler.fit_transform(flattened)\n",
    "    return normalized_flattened.reshape(spectrograms.shape)"
   ]
  },
  {
   "cell_type": "code",
   "execution_count": 5,
   "id": "0GnILABq59eP",
   "metadata": {
    "id": "0GnILABq59eP"
   },
   "outputs": [],
   "source": [
    "def stft(signal):\n",
    "    sig = librosa.stft(signal, n_fft=1024, hop_length=512)\n",
    "    return np.abs(sig)"
   ]
  },
  {
   "cell_type": "code",
   "execution_count": 24,
   "id": "n7uXBzNQ4vcD",
   "metadata": {
    "id": "n7uXBzNQ4vcD"
   },
   "outputs": [],
   "source": [
    "X = []\n",
    "for t in training_data:\n",
    "    S = stft(t)\n",
    "    X.append(S)\n",
    "\n",
    "train_spectra = np.array(X)\n",
    "\n",
    "Y = []\n",
    "for z in testing_data:\n",
    "    Q = stft(z)\n",
    "    Y.append(Q)\n",
    "\n",
    "test_spectra = np.array(Y)"
   ]
  },
  {
   "cell_type": "code",
   "execution_count": 25,
   "id": "LT0bonIg45xy",
   "metadata": {
    "id": "LT0bonIg45xy"
   },
   "outputs": [],
   "source": [
    " def create_minibatches(spectrograms, n=50, L=45):\n",
    "    pos_p, neg_p = [], []\n",
    "    for x in range(n):\n",
    "        utt = spectrograms[x * 10:(x + 1) * 10]\n",
    "        if len(utt) < 2:\n",
    "            continue\n",
    "\n",
    "        # pos pairs\n",
    "        if L > len(utt) * (len(utt) - 1) // 2:\n",
    "            Z = random.choices(list(combinations(utt, 2)), k=L)\n",
    "        else:\n",
    "            Z = list(combinations(utt, 2))[:L]\n",
    "        pos_p.extend(Z)\n",
    "\n",
    "        # neg pairs\n",
    "        C = list(set(range(n)) - {x})\n",
    "        for _ in range(L):\n",
    "            W = random.choice(utt)\n",
    "            R = random.choice(C)\n",
    "            D = spectrograms[R * 10:(R + 1) * 10]\n",
    "            if D.size > 0:\n",
    "                T = random.choice(D)\n",
    "                neg_p.append((W, T))\n",
    "\n",
    "    return pos_p, neg_p"
   ]
  },
  {
   "cell_type": "code",
   "execution_count": 11,
   "id": "Kp3MdreK4meq",
   "metadata": {
    "id": "Kp3MdreK4meq"
   },
   "outputs": [],
   "source": [
    "# padded_train_spectra = np.pad(train_spectra, ((0, 0), (0, 0), (0, 13)), mode='constant')"
   ]
  },
  {
   "cell_type": "code",
   "execution_count": 26,
   "id": "IGm-sDLh6c7K",
   "metadata": {
    "id": "IGm-sDLh6c7K"
   },
   "outputs": [],
   "source": [
    "positive_pairs, negative_pairs = create_minibatches(train_spectra)\n",
    "X1 = np.array([pair[0] for pair in positive_pairs + negative_pairs])\n",
    "X2 = np.array([pair[1] for pair in positive_pairs + negative_pairs])\n",
    "y = np.array([1] * len(positive_pairs) + [0] * len(negative_pairs))\n"
   ]
  },
  {
   "cell_type": "code",
   "execution_count": 27,
   "id": "usSi7BA67YwE",
   "metadata": {
    "id": "usSi7BA67YwE"
   },
   "outputs": [],
   "source": [
    "X1_train, X1_val, X2_train, X2_val, y_train, y_val = train_test_split(X1, X2, y, test_size=0.2, random_state=42)"
   ]
  },
  {
   "cell_type": "code",
   "execution_count": 28,
   "id": "Q_ns6jQH5OKP",
   "metadata": {
    "id": "Q_ns6jQH5OKP"
   },
   "outputs": [],
   "source": [
    "input_shape = train_spectra[0].shape\n",
    "embedding_net = tf.keras.Sequential([\n",
    "    layers.Input(shape=input_shape),\n",
    "    layers.GRU(64, return_sequences=True, activation='relu'),\n",
    "    layers.GRU(128, return_sequences=True, activation='relu'),\n",
    "    layers.Flatten(),\n",
    "    layers.Dense(128, activation='relu'),\n",
    "    layers.Dense(64, activation='relu')\n",
    "])"
   ]
  },
  {
   "cell_type": "code",
   "execution_count": null,
   "id": "pvDS-gfKL60a",
   "metadata": {
    "colab": {
     "base_uri": "https://localhost:8080/"
    },
    "id": "pvDS-gfKL60a",
    "outputId": "75519b09-9c95-4139-b329-e68fc2a0f6ad"
   },
   "outputs": [
    {
     "name": "stdout",
     "output_type": "stream",
     "text": [
      "Epoch 1/20\n",
      "\u001b[1m113/113\u001b[0m \u001b[32m━━━━━━━━━━━━━━━━━━━━\u001b[0m\u001b[37m\u001b[0m \u001b[1m56s\u001b[0m 420ms/step - accuracy: 0.5027 - loss: 0.6937 - val_accuracy: 0.5022 - val_loss: 0.6931\n",
      "Epoch 2/20\n",
      "\u001b[1m113/113\u001b[0m \u001b[32m━━━━━━━━━━━━━━━━━━━━\u001b[0m\u001b[37m\u001b[0m \u001b[1m72s\u001b[0m 358ms/step - accuracy: 0.5137 - loss: 0.6931 - val_accuracy: 0.5067 - val_loss: 0.6931\n",
      "Epoch 3/20\n",
      "\u001b[1m113/113\u001b[0m \u001b[32m━━━━━━━━━━━━━━━━━━━━\u001b[0m\u001b[37m\u001b[0m \u001b[1m41s\u001b[0m 357ms/step - accuracy: 0.5114 - loss: 0.6928 - val_accuracy: 0.4811 - val_loss: 0.6969\n",
      "Epoch 4/20\n",
      "\u001b[1m113/113\u001b[0m \u001b[32m━━━━━━━━━━━━━━━━━━━━\u001b[0m\u001b[37m\u001b[0m \u001b[1m41s\u001b[0m 362ms/step - accuracy: 0.5203 - loss: 0.6914 - val_accuracy: 0.4822 - val_loss: 0.6974\n",
      "Epoch 5/20\n",
      "\u001b[1m113/113\u001b[0m \u001b[32m━━━━━━━━━━━━━━━━━━━━\u001b[0m\u001b[37m\u001b[0m \u001b[1m44s\u001b[0m 391ms/step - accuracy: 0.5532 - loss: 0.6876 - val_accuracy: 0.4856 - val_loss: 0.6961\n",
      "Epoch 6/20\n",
      "\u001b[1m113/113\u001b[0m \u001b[32m━━━━━━━━━━━━━━━━━━━━\u001b[0m\u001b[37m\u001b[0m \u001b[1m78s\u001b[0m 360ms/step - accuracy: 0.5569 - loss: 0.6850 - val_accuracy: 0.4822 - val_loss: 0.7038\n",
      "Epoch 7/20\n",
      "\u001b[1m113/113\u001b[0m \u001b[32m━━━━━━━━━━━━━━━━━━━━\u001b[0m\u001b[37m\u001b[0m \u001b[1m41s\u001b[0m 362ms/step - accuracy: 0.5677 - loss: 0.6779 - val_accuracy: 0.4756 - val_loss: 0.6981\n",
      "Epoch 8/20\n",
      "\u001b[1m113/113\u001b[0m \u001b[32m━━━━━━━━━━━━━━━━━━━━\u001b[0m\u001b[37m\u001b[0m \u001b[1m41s\u001b[0m 360ms/step - accuracy: 0.5698 - loss: 0.6810 - val_accuracy: 0.4600 - val_loss: 0.7043\n",
      "Epoch 9/20\n",
      "\u001b[1m113/113\u001b[0m \u001b[32m━━━━━━━━━━━━━━━━━━━━\u001b[0m\u001b[37m\u001b[0m \u001b[1m41s\u001b[0m 359ms/step - accuracy: 0.5767 - loss: 0.6749 - val_accuracy: 0.4778 - val_loss: 0.7372\n",
      "Epoch 10/20\n",
      "\u001b[1m113/113\u001b[0m \u001b[32m━━━━━━━━━━━━━━━━━━━━\u001b[0m\u001b[37m\u001b[0m \u001b[1m41s\u001b[0m 358ms/step - accuracy: 0.5794 - loss: 0.6674 - val_accuracy: 0.4444 - val_loss: 0.7220\n",
      "Epoch 11/20\n",
      "\u001b[1m113/113\u001b[0m \u001b[32m━━━━━━━━━━━━━━━━━━━━\u001b[0m\u001b[37m\u001b[0m \u001b[1m41s\u001b[0m 358ms/step - accuracy: 0.5734 - loss: 0.6722 - val_accuracy: 0.4667 - val_loss: 0.7436\n",
      "Epoch 12/20\n",
      "\u001b[1m113/113\u001b[0m \u001b[32m━━━━━━━━━━━━━━━━━━━━\u001b[0m\u001b[37m\u001b[0m \u001b[1m41s\u001b[0m 361ms/step - accuracy: 0.5984 - loss: 0.6591 - val_accuracy: 0.4556 - val_loss: 0.7527\n",
      "Epoch 13/20\n",
      "\u001b[1m113/113\u001b[0m \u001b[32m━━━━━━━━━━━━━━━━━━━━\u001b[0m\u001b[37m\u001b[0m \u001b[1m41s\u001b[0m 359ms/step - accuracy: 0.6019 - loss: 0.6568 - val_accuracy: 0.4600 - val_loss: 0.7600\n",
      "Epoch 14/20\n",
      "\u001b[1m113/113\u001b[0m \u001b[32m━━━━━━━━━━━━━━━━━━━━\u001b[0m\u001b[37m\u001b[0m \u001b[1m41s\u001b[0m 363ms/step - accuracy: 0.6158 - loss: 0.6513 - val_accuracy: 0.4511 - val_loss: 0.7965\n",
      "Epoch 15/20\n",
      "\u001b[1m113/113\u001b[0m \u001b[32m━━━━━━━━━━━━━━━━━━━━\u001b[0m\u001b[37m\u001b[0m \u001b[1m82s\u001b[0m 358ms/step - accuracy: 0.6114 - loss: 0.6436 - val_accuracy: 0.4522 - val_loss: 0.8324\n",
      "Epoch 16/20\n",
      "\u001b[1m113/113\u001b[0m \u001b[32m━━━━━━━━━━━━━━━━━━━━\u001b[0m\u001b[37m\u001b[0m \u001b[1m41s\u001b[0m 358ms/step - accuracy: 0.6152 - loss: 0.6368 - val_accuracy: 0.4456 - val_loss: 0.8546\n",
      "Epoch 17/20\n",
      "\u001b[1m113/113\u001b[0m \u001b[32m━━━━━━━━━━━━━━━━━━━━\u001b[0m\u001b[37m\u001b[0m \u001b[1m41s\u001b[0m 358ms/step - accuracy: 0.6352 - loss: 0.6310 - val_accuracy: 0.4411 - val_loss: 0.8458\n",
      "Epoch 18/20\n",
      "\u001b[1m113/113\u001b[0m \u001b[32m━━━━━━━━━━━━━━━━━━━━\u001b[0m\u001b[37m\u001b[0m \u001b[1m41s\u001b[0m 358ms/step - accuracy: 0.6425 - loss: 0.6210 - val_accuracy: 0.4200 - val_loss: 0.9178\n",
      "Epoch 19/20\n",
      "\u001b[1m113/113\u001b[0m \u001b[32m━━━━━━━━━━━━━━━━━━━━\u001b[0m\u001b[37m\u001b[0m \u001b[1m41s\u001b[0m 362ms/step - accuracy: 0.6483 - loss: 0.6131 - val_accuracy: 0.4178 - val_loss: 1.0003\n",
      "Epoch 20/20\n",
      "\u001b[1m113/113\u001b[0m \u001b[32m━━━━━━━━━━━━━━━━━━━━\u001b[0m\u001b[37m\u001b[0m \u001b[1m41s\u001b[0m 360ms/step - accuracy: 0.6499 - loss: 0.6090 - val_accuracy: 0.4178 - val_loss: 0.9568\n"
     ]
    }
   ],
   "source": [
    "input1 = layers.Input(shape=input_shape)\n",
    "input2 = layers.Input(shape=input_shape)\n",
    "encoded1 = embedding_net(input1)\n",
    "encoded2 = embedding_net(input2)\n",
    "\n",
    "product = layers.Dot(axes=1)([encoded1, encoded2])\n",
    "hidden = layers.Dense(64, activation='relu')(product)\n",
    "output = layers.Dense(1, activation='sigmoid')(hidden)\n",
    "siamese_network = tf.keras.Model(inputs=[input1, input2], outputs=output)\n",
    "\n",
    "siamese_network.compile(optimizer=tf.keras.optimizers.Adam(learning_rate=0.0001), loss='binary_crossentropy', metrics=['accuracy'])\n",
    "history_siamese = siamese_network.fit(\n",
    "    [X1_train, X2_train], y_train,\n",
    "    validation_data=([X1_val, X2_val], y_val),\n",
    "    batch_size=64,\n",
    "    epochs=20\n",
    ")"
   ]
  },
  {
   "cell_type": "code",
   "execution_count": 31,
   "id": "4rBWuw4_380N",
   "metadata": {
    "colab": {
     "base_uri": "https://localhost:8080/"
    },
    "id": "4rBWuw4_380N",
    "outputId": "e34ec523-f84e-4155-9721-3a9d04a23704"
   },
   "outputs": [
    {
     "name": "stdout",
     "output_type": "stream",
     "text": [
      "Adjusted test_spectra shape: (200, 513, 32)\n"
     ]
    }
   ],
   "source": [
    "test_spectra_adjusted = test_spectra[:, :, :32]\n",
    "print(\"Adjusted test_spectra shape:\", test_spectra_adjusted.shape)"
   ]
  },
  {
   "cell_type": "code",
   "execution_count": null,
   "id": "CkH9Q9103-dd",
   "metadata": {
    "colab": {
     "base_uri": "https://localhost:8080/"
    },
    "id": "CkH9Q9103-dd",
    "outputId": "02bb6cc2-1b3e-49a0-961e-c5e16157e460"
   },
   "outputs": [
    {
     "name": "stdout",
     "output_type": "stream",
     "text": [
      "\u001b[1m39/39\u001b[0m \u001b[32m━━━━━━━━━━━━━━━━━━━━\u001b[0m\u001b[37m\u001b[0m \u001b[1m4s\u001b[0m 103ms/step - accuracy: 0.8820 - loss: 0.4209\n",
      "Test Accuracy: 0.6776263117790222\n"
     ]
    }
   ],
   "source": [
    "test_pos_pairs, test_neg_pairs = create_minibatches(test_spectra_adjusted)\n",
    "\n",
    "X1_test = np.array([pair[0] for pair in test_pos_pairs + test_neg_pairs])\n",
    "X2_test = np.array([pair[1] for pair in test_pos_pairs + test_neg_pairs])\n",
    "y_test = np.array([1] * len(test_pos_pairs) + [0] * len(test_neg_pairs))\n",
    "\n",
    "# Evaluate the model\n",
    "test_loss, test_accuracy = siamese_network.evaluate([X1_test, X2_test], y_test)\n",
    "print(f\"Test Accuracy: {test_accuracy}\")\n"
   ]
  },
  {
   "cell_type": "markdown",
   "id": "b233dcee",
   "metadata": {},
   "source": [
    "#Got 69-70% in a few runs but couldnt save the file"
   ]
  },
  {
   "cell_type": "markdown",
   "id": "DLNhK5UBhLlq",
   "metadata": {
    "id": "DLNhK5UBhLlq"
   },
   "source": [
    "#Q1"
   ]
  },
  {
   "cell_type": "code",
   "execution_count": null,
   "id": "jA0w1E3whMjc",
   "metadata": {
    "id": "jA0w1E3whMjc"
   },
   "outputs": [],
   "source": [
    "from tensorflow.keras.models import Sequential, clone_model\n",
    "from tensorflow.keras.layers import Flatten, Dense\n",
    "from tensorflow.keras.optimizers import Adam\n",
    "from tensorflow.keras.datasets import mnist\n",
    "import numpy as np\n",
    "import tensorflow as tf\n",
    "import matplotlib.pyplot as plt"
   ]
  },
  {
   "cell_type": "code",
   "execution_count": null,
   "id": "mgMgjJJnhXF8",
   "metadata": {
    "colab": {
     "base_uri": "https://localhost:8080/"
    },
    "id": "mgMgjJJnhXF8",
    "outputId": "6292a0a6-84a2-47ee-9822-bb0f2aa08ed2"
   },
   "outputs": [
    {
     "name": "stdout",
     "output_type": "stream",
     "text": [
      "Downloading data from https://storage.googleapis.com/tensorflow/tf-keras-datasets/mnist.npz\n",
      "\u001b[1m11490434/11490434\u001b[0m \u001b[32m━━━━━━━━━━━━━━━━━━━━\u001b[0m\u001b[37m\u001b[0m \u001b[1m0s\u001b[0m 0us/step\n"
     ]
    }
   ],
   "source": [
    "(x_train, y_train), (x_test, y_test) = mnist.load_data()\n",
    "x_train, x_test = x_train / 255.0, x_test / 255.0"
   ]
  },
  {
   "cell_type": "code",
   "execution_count": null,
   "id": "PDiZyhlzhaUH",
   "metadata": {
    "id": "PDiZyhlzhaUH"
   },
   "outputs": [],
   "source": [
    "def create_bline_model():\n",
    "    model = Sequential([\n",
    "        Flatten(input_shape=(28, 28)),\n",
    "        Dense(1024, activation='relu'),\n",
    "        Dense(1024, activation='relu'),\n",
    "        Dense(1024, activation='relu'),\n",
    "        Dense(1024, activation='relu'),\n",
    "        Dense(1024, activation='relu'),\n",
    "        Dense(10, activation='softmax')\n",
    "    ])\n",
    "    return model\n",
    "bline_model = create_bline_model()\n"
   ]
  },
  {
   "cell_type": "code",
   "execution_count": null,
   "id": "jsB3fsMJhdO-",
   "metadata": {
    "colab": {
     "base_uri": "https://localhost:8080/"
    },
    "id": "jsB3fsMJhdO-",
    "outputId": "a6009eac-dcb7-45c2-8e4a-54f4ee79e06f"
   },
   "outputs": [
    {
     "name": "stdout",
     "output_type": "stream",
     "text": [
      "Epoch 1/25\n",
      "\u001b[1m938/938\u001b[0m \u001b[32m━━━━━━━━━━━━━━━━━━━━\u001b[0m\u001b[37m\u001b[0m \u001b[1m8s\u001b[0m 5ms/step - accuracy: 0.9991 - loss: 0.0029 - val_accuracy: 0.9800 - val_loss: 0.1335\n",
      "Epoch 2/25\n",
      "\u001b[1m938/938\u001b[0m \u001b[32m━━━━━━━━━━━━━━━━━━━━\u001b[0m\u001b[37m\u001b[0m \u001b[1m3s\u001b[0m 3ms/step - accuracy: 0.9997 - loss: 0.0012 - val_accuracy: 0.9831 - val_loss: 0.1242\n",
      "Epoch 3/25\n",
      "\u001b[1m938/938\u001b[0m \u001b[32m━━━━━━━━━━━━━━━━━━━━\u001b[0m\u001b[37m\u001b[0m \u001b[1m3s\u001b[0m 3ms/step - accuracy: 0.9999 - loss: 2.3629e-04 - val_accuracy: 0.9823 - val_loss: 0.1472\n",
      "Epoch 4/25\n",
      "\u001b[1m938/938\u001b[0m \u001b[32m━━━━━━━━━━━━━━━━━━━━\u001b[0m\u001b[37m\u001b[0m \u001b[1m6s\u001b[0m 4ms/step - accuracy: 0.9985 - loss: 0.0060 - val_accuracy: 0.9830 - val_loss: 0.1239\n",
      "Epoch 5/25\n",
      "\u001b[1m938/938\u001b[0m \u001b[32m━━━━━━━━━━━━━━━━━━━━\u001b[0m\u001b[37m\u001b[0m \u001b[1m3s\u001b[0m 3ms/step - accuracy: 0.9996 - loss: 0.0016 - val_accuracy: 0.9840 - val_loss: 0.1237\n",
      "Epoch 6/25\n",
      "\u001b[1m938/938\u001b[0m \u001b[32m━━━━━━━━━━━━━━━━━━━━\u001b[0m\u001b[37m\u001b[0m \u001b[1m5s\u001b[0m 3ms/step - accuracy: 0.9994 - loss: 0.0029 - val_accuracy: 0.9833 - val_loss: 0.1262\n",
      "Epoch 7/25\n",
      "\u001b[1m938/938\u001b[0m \u001b[32m━━━━━━━━━━━━━━━━━━━━\u001b[0m\u001b[37m\u001b[0m \u001b[1m5s\u001b[0m 3ms/step - accuracy: 0.9996 - loss: 0.0013 - val_accuracy: 0.9850 - val_loss: 0.1181\n",
      "Epoch 8/25\n",
      "\u001b[1m938/938\u001b[0m \u001b[32m━━━━━━━━━━━━━━━━━━━━\u001b[0m\u001b[37m\u001b[0m \u001b[1m3s\u001b[0m 3ms/step - accuracy: 0.9997 - loss: 0.0012 - val_accuracy: 0.9839 - val_loss: 0.1174\n",
      "Epoch 9/25\n",
      "\u001b[1m938/938\u001b[0m \u001b[32m━━━━━━━━━━━━━━━━━━━━\u001b[0m\u001b[37m\u001b[0m \u001b[1m6s\u001b[0m 4ms/step - accuracy: 0.9992 - loss: 0.0029 - val_accuracy: 0.9848 - val_loss: 0.0943\n",
      "Epoch 10/25\n",
      "\u001b[1m938/938\u001b[0m \u001b[32m━━━━━━━━━━━━━━━━━━━━\u001b[0m\u001b[37m\u001b[0m \u001b[1m3s\u001b[0m 3ms/step - accuracy: 0.9993 - loss: 0.0024 - val_accuracy: 0.9841 - val_loss: 0.1091\n",
      "Epoch 11/25\n",
      "\u001b[1m938/938\u001b[0m \u001b[32m━━━━━━━━━━━━━━━━━━━━\u001b[0m\u001b[37m\u001b[0m \u001b[1m3s\u001b[0m 3ms/step - accuracy: 0.9999 - loss: 5.9548e-04 - val_accuracy: 0.9860 - val_loss: 0.0887\n",
      "Epoch 12/25\n",
      "\u001b[1m938/938\u001b[0m \u001b[32m━━━━━━━━━━━━━━━━━━━━\u001b[0m\u001b[37m\u001b[0m \u001b[1m6s\u001b[0m 4ms/step - accuracy: 0.9992 - loss: 0.0022 - val_accuracy: 0.9857 - val_loss: 0.1103\n",
      "Epoch 13/25\n",
      "\u001b[1m938/938\u001b[0m \u001b[32m━━━━━━━━━━━━━━━━━━━━\u001b[0m\u001b[37m\u001b[0m \u001b[1m4s\u001b[0m 4ms/step - accuracy: 0.9994 - loss: 0.0033 - val_accuracy: 0.9852 - val_loss: 0.1032\n",
      "Epoch 14/25\n",
      "\u001b[1m938/938\u001b[0m \u001b[32m━━━━━━━━━━━━━━━━━━━━\u001b[0m\u001b[37m\u001b[0m \u001b[1m4s\u001b[0m 3ms/step - accuracy: 0.9995 - loss: 0.0024 - val_accuracy: 0.9841 - val_loss: 0.1019\n",
      "Epoch 15/25\n",
      "\u001b[1m938/938\u001b[0m \u001b[32m━━━━━━━━━━━━━━━━━━━━\u001b[0m\u001b[37m\u001b[0m \u001b[1m3s\u001b[0m 3ms/step - accuracy: 0.9991 - loss: 0.0035 - val_accuracy: 0.9851 - val_loss: 0.1159\n",
      "Epoch 16/25\n",
      "\u001b[1m938/938\u001b[0m \u001b[32m━━━━━━━━━━━━━━━━━━━━\u001b[0m\u001b[37m\u001b[0m \u001b[1m4s\u001b[0m 4ms/step - accuracy: 1.0000 - loss: 1.8286e-04 - val_accuracy: 0.9854 - val_loss: 0.1010\n",
      "Epoch 17/25\n",
      "\u001b[1m938/938\u001b[0m \u001b[32m━━━━━━━━━━━━━━━━━━━━\u001b[0m\u001b[37m\u001b[0m \u001b[1m5s\u001b[0m 3ms/step - accuracy: 0.9998 - loss: 0.0015 - val_accuracy: 0.9850 - val_loss: 0.0952\n",
      "Epoch 18/25\n",
      "\u001b[1m938/938\u001b[0m \u001b[32m━━━━━━━━━━━━━━━━━━━━\u001b[0m\u001b[37m\u001b[0m \u001b[1m3s\u001b[0m 3ms/step - accuracy: 0.9997 - loss: 0.0014 - val_accuracy: 0.9842 - val_loss: 0.1052\n",
      "Epoch 19/25\n",
      "\u001b[1m938/938\u001b[0m \u001b[32m━━━━━━━━━━━━━━━━━━━━\u001b[0m\u001b[37m\u001b[0m \u001b[1m6s\u001b[0m 4ms/step - accuracy: 0.9998 - loss: 0.0015 - val_accuracy: 0.9858 - val_loss: 0.1188\n",
      "Epoch 20/25\n",
      "\u001b[1m938/938\u001b[0m \u001b[32m━━━━━━━━━━━━━━━━━━━━\u001b[0m\u001b[37m\u001b[0m \u001b[1m3s\u001b[0m 3ms/step - accuracy: 0.9992 - loss: 0.0035 - val_accuracy: 0.9849 - val_loss: 0.1025\n",
      "Epoch 21/25\n",
      "\u001b[1m938/938\u001b[0m \u001b[32m━━━━━━━━━━━━━━━━━━━━\u001b[0m\u001b[37m\u001b[0m \u001b[1m3s\u001b[0m 3ms/step - accuracy: 0.9995 - loss: 0.0017 - val_accuracy: 0.9861 - val_loss: 0.1079\n",
      "Epoch 22/25\n",
      "\u001b[1m938/938\u001b[0m \u001b[32m━━━━━━━━━━━━━━━━━━━━\u001b[0m\u001b[37m\u001b[0m \u001b[1m6s\u001b[0m 4ms/step - accuracy: 1.0000 - loss: 8.3021e-05 - val_accuracy: 0.9862 - val_loss: 0.1215\n",
      "Epoch 23/25\n",
      "\u001b[1m938/938\u001b[0m \u001b[32m━━━━━━━━━━━━━━━━━━━━\u001b[0m\u001b[37m\u001b[0m \u001b[1m3s\u001b[0m 3ms/step - accuracy: 1.0000 - loss: 3.9157e-06 - val_accuracy: 0.9863 - val_loss: 0.1266\n",
      "Epoch 24/25\n",
      "\u001b[1m938/938\u001b[0m \u001b[32m━━━━━━━━━━━━━━━━━━━━\u001b[0m\u001b[37m\u001b[0m \u001b[1m3s\u001b[0m 3ms/step - accuracy: 1.0000 - loss: 1.7864e-06 - val_accuracy: 0.9864 - val_loss: 0.1316\n",
      "Epoch 25/25\n",
      "\u001b[1m938/938\u001b[0m \u001b[32m━━━━━━━━━━━━━━━━━━━━\u001b[0m\u001b[37m\u001b[0m \u001b[1m3s\u001b[0m 3ms/step - accuracy: 1.0000 - loss: 7.8722e-07 - val_accuracy: 0.9864 - val_loss: 0.1366\n"
     ]
    },
    {
     "data": {
      "text/plain": [
       "<keras.src.callbacks.history.History at 0x79dd508b86d0>"
      ]
     },
     "execution_count": 65,
     "metadata": {},
     "output_type": "execute_result"
    }
   ],
   "source": [
    "bline_model.compile(optimizer=Adam(learning_rate=0.0001), loss='sparse_categorical_crossentropy', metrics=['accuracy'])\n",
    "bline_model.fit(x_train, y_train, epochs=25, batch_size=64, validation_data=(x_test, y_test))"
   ]
  },
  {
   "cell_type": "code",
   "execution_count": null,
   "id": "FqGmYX0IhmzN",
   "metadata": {
    "colab": {
     "base_uri": "https://localhost:8080/"
    },
    "id": "FqGmYX0IhmzN",
    "outputId": "4de3cb8a-cadb-4b70-dd84-ea51d2546960"
   },
   "outputs": [
    {
     "name": "stdout",
     "output_type": "stream",
     "text": [
      "Baseline test_acc: 98.64%\n"
     ]
    }
   ],
   "source": [
    "bline_accuracy = bline_model.evaluate(x_test, y_test, verbose=0)[1]\n",
    "print(f\"Baseline test_acc: {bline_accuracy * 100:.2f}%\")"
   ]
  },
  {
   "cell_type": "code",
   "execution_count": null,
   "id": "bD0ZKtCFhoas",
   "metadata": {
    "id": "bD0ZKtCFhoas"
   },
   "outputs": [],
   "source": [
    "def get_svd(matrix):\n",
    "    # eigenvalues and eigenvectors\n",
    "    eigenvalues, V = np.linalg.eig(np.dot(matrix.T, matrix))\n",
    "    sorted_indices = np.argsort(eigenvalues)[::-1]\n",
    "    eigenvalues = eigenvalues[sorted_indices]\n",
    "    V = V[:, sorted_indices]\n",
    "    singular_values = np.sqrt(eigenvalues)\n",
    "\n",
    "    U = np.dot(matrix, V) / singular_values\n",
    "    U = U / np.linalg.norm(U, axis=0)\n",
    "    Sigma = np.diag(singular_values)\n",
    "    return U, Sigma, V.T"
   ]
  },
  {
   "cell_type": "code",
   "execution_count": null,
   "id": "5kQ9WNlqhp-P",
   "metadata": {
    "id": "5kQ9WNlqhp-P"
   },
   "outputs": [],
   "source": [
    "def compress_weights(weights, d):\n",
    "    W, b = weights\n",
    "    U, S, V = get_svd(W)\n",
    "    U_reduced = U[:, :d]\n",
    "    S_reduced = S[:d, :d]\n",
    "    V_reduced = V[:d, :]\n",
    "    W_compressed = np.dot(U_reduced, np.dot(S_reduced, V_reduced))\n",
    "    return [W_compressed, b]"
   ]
  },
  {
   "cell_type": "code",
   "execution_count": null,
   "id": "S7-7nW2FhrGM",
   "metadata": {
    "colab": {
     "base_uri": "https://localhost:8080/"
    },
    "id": "S7-7nW2FhrGM",
    "outputId": "89d4268a-a7e5-4089-d38f-9ca45be8d94e"
   },
   "outputs": [
    {
     "name": "stderr",
     "output_type": "stream",
     "text": [
      "<ipython-input-67-7dd1135ad6a6>:7: RuntimeWarning: invalid value encountered in sqrt\n",
      "  singular_values = np.sqrt(eigenvalues)\n"
     ]
    },
    {
     "name": "stdout",
     "output_type": "stream",
     "text": [
      "Test Accuracy for D=10: 69.79%\n",
      "Test Accuracy for D=20: 87.82%\n",
      "Test Accuracy for D=50: 98.14%\n",
      "Test Accuracy for D=100: 98.50%\n",
      "Test Accuracy for D=200: 98.61%\n",
      "Test Accuracy for D=784: 98.63%\n"
     ]
    }
   ],
   "source": [
    "Dvalues = [10, 20, 50, 100, 200, 784]\n",
    "test_accuracies = []\n",
    "for d in Dvalues:\n",
    "    model = clone_model(bline_model)\n",
    "    model.set_weights(bline_model.get_weights())\n",
    "    model.compile(optimizer=Adam(), loss='sparse_categorical_crossentropy', metrics=['accuracy'])\n",
    "\n",
    "    for i, layer in enumerate(model.layers):\n",
    "        if isinstance(layer, Dense):\n",
    "            weights = bline_model.layers[i].get_weights()\n",
    "            compressed_weights = compress_weights(weights, d)\n",
    "            layer.set_weights(compressed_weights)\n",
    "\n",
    "    compressed_accuracy = model.evaluate(x_test, y_test, verbose=0)[1]\n",
    "    test_accuracies.append(compressed_accuracy)\n",
    "    print(f\"Test Accuracy for D={d}: {compressed_accuracy * 100:.2f}%\")"
   ]
  },
  {
   "cell_type": "code",
   "execution_count": null,
   "id": "Sepoai6JhuNC",
   "metadata": {
    "colab": {
     "base_uri": "https://localhost:8080/",
     "height": 471
    },
    "id": "Sepoai6JhuNC",
    "outputId": "3abf6ae6-6bb9-4cee-e268-12093c300a9d"
   },
   "outputs": [
    {
     "data": {
      "image/png": "[encoded data removed]",
      "text/plain": [
       "<Figure size 640x480 with 1 Axes>"
      ]
     },
     "metadata": {},
     "output_type": "display_data"
    }
   ],
   "source": [
    "import matplotlib.pyplot as plt\n",
    "\n",
    "plt.plot(Dvalues, test_accuracies, marker='o')\n",
    "plt.xlabel(\"Singular Values Used 'D'\")\n",
    "plt.ylabel(\"Test accuracy\")\n",
    "plt.title(\"Test accuracy vs svd values for compressing\")\n",
    "plt.show()"
   ]
  },
  {
   "cell_type": "markdown",
   "id": "T_n12vdk66Kg",
   "metadata": {
    "id": "T_n12vdk66Kg"
   },
   "source": [
    "#Q2"
   ]
  },
  {
   "cell_type": "code",
   "execution_count": null,
   "id": "gGZfHWjo5-rB",
   "metadata": {
    "colab": {
     "base_uri": "https://localhost:8080/"
    },
    "id": "gGZfHWjo5-rB",
    "outputId": "f8c70a34-30a3-4040-e36a-d85a8e454f42"
   },
   "outputs": [
    {
     "name": "stdout",
     "output_type": "stream",
     "text": [
      "Epoch 1/25\n",
      "\u001b[1m938/938\u001b[0m \u001b[32m━━━━━━━━━━━━━━━━━━━━\u001b[0m\u001b[37m\u001b[0m \u001b[1m8s\u001b[0m 6ms/step - accuracy: 0.8817 - loss: 0.3971 - val_accuracy: 0.9597 - val_loss: 0.1370\n",
      "Epoch 2/25\n",
      "\u001b[1m938/938\u001b[0m \u001b[32m━━━━━━━━━━━━━━━━━━━━\u001b[0m\u001b[37m\u001b[0m \u001b[1m8s\u001b[0m 4ms/step - accuracy: 0.9730 - loss: 0.0871 - val_accuracy: 0.9742 - val_loss: 0.0815\n",
      "Epoch 3/25\n",
      "\u001b[1m938/938\u001b[0m \u001b[32m━━━━━━━━━━━━━━━━━━━━\u001b[0m\u001b[37m\u001b[0m \u001b[1m5s\u001b[0m 4ms/step - accuracy: 0.9805 - loss: 0.0608 - val_accuracy: 0.9763 - val_loss: 0.0855\n",
      "Epoch 4/25\n",
      "\u001b[1m938/938\u001b[0m \u001b[32m━━━━━━━━━━━━━━━━━━━━\u001b[0m\u001b[37m\u001b[0m \u001b[1m4s\u001b[0m 5ms/step - accuracy: 0.9865 - loss: 0.0445 - val_accuracy: 0.9776 - val_loss: 0.0823\n",
      "Epoch 5/25\n",
      "\u001b[1m938/938\u001b[0m \u001b[32m━━━━━━━━━━━━━━━━━━━━\u001b[0m\u001b[37m\u001b[0m \u001b[1m5s\u001b[0m 4ms/step - accuracy: 0.9888 - loss: 0.0361 - val_accuracy: 0.9780 - val_loss: 0.0819\n",
      "Epoch 6/25\n",
      "\u001b[1m938/938\u001b[0m \u001b[32m━━━━━━━━━━━━━━━━━━━━\u001b[0m\u001b[37m\u001b[0m \u001b[1m5s\u001b[0m 5ms/step - accuracy: 0.9902 - loss: 0.0319 - val_accuracy: 0.9746 - val_loss: 0.0893\n",
      "Epoch 7/25\n",
      "\u001b[1m938/938\u001b[0m \u001b[32m━━━━━━━━━━━━━━━━━━━━\u001b[0m\u001b[37m\u001b[0m \u001b[1m5s\u001b[0m 6ms/step - accuracy: 0.9915 - loss: 0.0294 - val_accuracy: 0.9828 - val_loss: 0.0623\n",
      "Epoch 8/25\n",
      "\u001b[1m938/938\u001b[0m \u001b[32m━━━━━━━━━━━━━━━━━━━━\u001b[0m\u001b[37m\u001b[0m \u001b[1m9s\u001b[0m 5ms/step - accuracy: 0.9936 - loss: 0.0217 - val_accuracy: 0.9809 - val_loss: 0.0782\n",
      "Epoch 9/25\n",
      "\u001b[1m938/938\u001b[0m \u001b[32m━━━━━━━━━━━━━━━━━━━━\u001b[0m\u001b[37m\u001b[0m \u001b[1m4s\u001b[0m 4ms/step - accuracy: 0.9928 - loss: 0.0215 - val_accuracy: 0.9764 - val_loss: 0.0926\n",
      "Epoch 10/25\n",
      "\u001b[1m938/938\u001b[0m \u001b[32m━━━━━━━━━━━━━━━━━━━━\u001b[0m\u001b[37m\u001b[0m \u001b[1m4s\u001b[0m 4ms/step - accuracy: 0.9935 - loss: 0.0220 - val_accuracy: 0.9727 - val_loss: 0.1289\n",
      "Epoch 11/25\n",
      "\u001b[1m938/938\u001b[0m \u001b[32m━━━━━━━━━━━━━━━━━━━━\u001b[0m\u001b[37m\u001b[0m \u001b[1m6s\u001b[0m 5ms/step - accuracy: 0.9933 - loss: 0.0218 - val_accuracy: 0.9800 - val_loss: 0.0930\n",
      "Epoch 12/25\n",
      "\u001b[1m938/938\u001b[0m \u001b[32m━━━━━━━━━━━━━━━━━━━━\u001b[0m\u001b[37m\u001b[0m \u001b[1m4s\u001b[0m 4ms/step - accuracy: 0.9958 - loss: 0.0148 - val_accuracy: 0.9717 - val_loss: 0.1139\n",
      "Epoch 13/25\n",
      "\u001b[1m938/938\u001b[0m \u001b[32m━━━━━━━━━━━━━━━━━━━━\u001b[0m\u001b[37m\u001b[0m \u001b[1m5s\u001b[0m 4ms/step - accuracy: 0.9933 - loss: 0.0204 - val_accuracy: 0.9783 - val_loss: 0.1028\n",
      "Epoch 14/25\n",
      "\u001b[1m938/938\u001b[0m \u001b[32m━━━━━━━━━━━━━━━━━━━━\u001b[0m\u001b[37m\u001b[0m \u001b[1m5s\u001b[0m 4ms/step - accuracy: 0.9951 - loss: 0.0160 - val_accuracy: 0.9793 - val_loss: 0.0879\n",
      "Epoch 15/25\n",
      "\u001b[1m938/938\u001b[0m \u001b[32m━━━━━━━━━━━━━━━━━━━━\u001b[0m\u001b[37m\u001b[0m \u001b[1m5s\u001b[0m 4ms/step - accuracy: 0.9954 - loss: 0.0153 - val_accuracy: 0.9821 - val_loss: 0.0886\n",
      "Epoch 16/25\n",
      "\u001b[1m938/938\u001b[0m \u001b[32m━━━━━━━━━━━━━━━━━━━━\u001b[0m\u001b[37m\u001b[0m \u001b[1m6s\u001b[0m 5ms/step - accuracy: 0.9963 - loss: 0.0116 - val_accuracy: 0.9818 - val_loss: 0.0834\n",
      "Epoch 17/25\n",
      "\u001b[1m938/938\u001b[0m \u001b[32m━━━━━━━━━━━━━━━━━━━━\u001b[0m\u001b[37m\u001b[0m \u001b[1m5s\u001b[0m 4ms/step - accuracy: 0.9956 - loss: 0.0151 - val_accuracy: 0.9810 - val_loss: 0.0868\n",
      "Epoch 18/25\n",
      "\u001b[1m938/938\u001b[0m \u001b[32m━━━━━━━━━━━━━━━━━━━━\u001b[0m\u001b[37m\u001b[0m \u001b[1m5s\u001b[0m 4ms/step - accuracy: 0.9963 - loss: 0.0141 - val_accuracy: 0.9788 - val_loss: 0.1013\n",
      "Epoch 19/25\n",
      "\u001b[1m938/938\u001b[0m \u001b[32m━━━━━━━━━━━━━━━━━━━━\u001b[0m\u001b[37m\u001b[0m \u001b[1m4s\u001b[0m 4ms/step - accuracy: 0.9965 - loss: 0.0119 - val_accuracy: 0.9816 - val_loss: 0.0783\n",
      "Epoch 20/25\n",
      "\u001b[1m938/938\u001b[0m \u001b[32m━━━━━━━━━━━━━━━━━━━━\u001b[0m\u001b[37m\u001b[0m \u001b[1m5s\u001b[0m 4ms/step - accuracy: 0.9967 - loss: 0.0112 - val_accuracy: 0.9776 - val_loss: 0.0959\n",
      "Epoch 21/25\n",
      "\u001b[1m938/938\u001b[0m \u001b[32m━━━━━━━━━━━━━━━━━━━━\u001b[0m\u001b[37m\u001b[0m \u001b[1m4s\u001b[0m 4ms/step - accuracy: 0.9974 - loss: 0.0095 - val_accuracy: 0.9835 - val_loss: 0.0836\n",
      "Epoch 22/25\n",
      "\u001b[1m938/938\u001b[0m \u001b[32m━━━━━━━━━━━━━━━━━━━━\u001b[0m\u001b[37m\u001b[0m \u001b[1m4s\u001b[0m 4ms/step - accuracy: 0.9959 - loss: 0.0130 - val_accuracy: 0.9807 - val_loss: 0.1050\n",
      "Epoch 23/25\n",
      "\u001b[1m938/938\u001b[0m \u001b[32m━━━━━━━━━━━━━━━━━━━━\u001b[0m\u001b[37m\u001b[0m \u001b[1m5s\u001b[0m 4ms/step - accuracy: 0.9967 - loss: 0.0132 - val_accuracy: 0.9836 - val_loss: 0.1044\n",
      "Epoch 24/25\n",
      "\u001b[1m938/938\u001b[0m \u001b[32m━━━━━━━━━━━━━━━━━━━━\u001b[0m\u001b[37m\u001b[0m \u001b[1m4s\u001b[0m 5ms/step - accuracy: 0.9971 - loss: 0.0115 - val_accuracy: 0.9830 - val_loss: 0.0890\n",
      "Epoch 25/25\n",
      "\u001b[1m938/938\u001b[0m \u001b[32m━━━━━━━━━━━━━━━━━━━━\u001b[0m\u001b[37m\u001b[0m \u001b[1m4s\u001b[0m 4ms/step - accuracy: 0.9966 - loss: 0.0142 - val_accuracy: 0.9828 - val_loss: 0.0874\n"
     ]
    }
   ],
   "source": [
    "from tensorflow.keras.layers import Input, Dense, Flatten, Activation\n",
    "from tensorflow.keras.models import Model\n",
    "from scipy.linalg import svd\n",
    "import tensorflow as tf\n",
    "\n",
    "def get_svd_weights(base_model, d=20):\n",
    "\n",
    "    svd_weights = []\n",
    "    for layer in base_model.layers:\n",
    "        if isinstance(layer, Dense):\n",
    "            # weights and compute SVD\n",
    "            weights = layer.get_weights()[0]\n",
    "            U, S, V = svd(weights)\n",
    "\n",
    "            # dimensions reduce\n",
    "            U = U[:, :d]\n",
    "            S = S[:d]\n",
    "            V = V[:d, :]\n",
    "            svd_weights.append((U, S, V))\n",
    "\n",
    "    return svd_weights\n",
    "\n",
    "def build_factorized_model(input_shape=(28, 28), hidden_units=1024, num_layers=4):\n",
    "\n",
    "    inp = Input(shape=input_shape)\n",
    "    x = Flatten()(inp)\n",
    "\n",
    "    # hidden\n",
    "    for _ in range(num_layers):\n",
    "        # U layer\n",
    "        x = Dense(hidden_units,use_bias=False,kernel_initializer='glorot_uniform')(x)\n",
    "        # V layer\n",
    "        x = Dense(hidden_units,use_bias=True,kernel_initializer='glorot_uniform')(x)\n",
    "        x = Activation('relu')(x)\n",
    "    out = Dense(10, activation='softmax')(x)\n",
    "\n",
    "    return Model(inp, out)\n",
    "\n",
    "def train_model(x_train, y_train, x_test, y_test):\n",
    "\n",
    "    svd_weights = get_svd_weights(bline_model) # get weights\n",
    "    model = build_factorized_model()\n",
    "    model.compile(optimizer=Adam(learning_rate=0.0001),loss='sparse_categorical_crossentropy',metrics=['accuracy'])\n",
    "    history = model.fit(x_train, y_train, batch_size=64, epochs=25, validation_data=(x_test, y_test))\n",
    "\n",
    "    return model, history\n",
    "\n",
    "# Run training\n",
    "factor_model, history_factor = train_model(x_train, y_train, x_test, y_test)"
   ]
  },
  {
   "cell_type": "code",
   "execution_count": null,
   "id": "7Md4bo5e8psl",
   "metadata": {
    "colab": {
     "base_uri": "https://localhost:8080/"
    },
    "id": "7Md4bo5e8psl",
    "outputId": "bc5c48a7-b7eb-4f21-fea6-2e7c8110ea0b"
   },
   "outputs": [
    {
     "name": "stdout",
     "output_type": "stream",
     "text": [
      "Accuracy for test set after fine-tuning with d=20: 98.28%\n"
     ]
    }
   ],
   "source": [
    "test_accuracy = factor_model.evaluate(x_test, y_test, verbose=0)[1]\n",
    "print(f\"Accuracy for test set after fine-tuning with d=20: {test_accuracy * 100:.2f}%\")"
   ]
  },
  {
   "cell_type": "markdown",
   "id": "ANEwByoPDpPF",
   "metadata": {
    "id": "ANEwByoPDpPF"
   },
   "source": [
    "#Q3"
   ]
  },
  {
   "cell_type": "code",
   "execution_count": null,
   "id": "9Pa_aoj8-7L6",
   "metadata": {
    "id": "9Pa_aoj8-7L6"
   },
   "outputs": [],
   "source": [
    "class CompressedNN(tf.keras.Model):\n",
    "    def __init__(self, base_weights, d=20):\n",
    "        super().__init__()\n",
    "        self.rank = d\n",
    "        self.flatten = Flatten()\n",
    "        self.hidden = []\n",
    "        self.compressed_weights = []\n",
    "\n",
    "        # hidden layers -- compressed weights\n",
    "        for weights in base_weights[:-1]:\n",
    "            layer = Dense(1024, activation='relu')\n",
    "            layer.build((None, weights[0].shape[0]))\n",
    "            compressed = compress_weights(weights, d)\n",
    "            layer.set_weights(compressed)\n",
    "\n",
    "            self.hidden.append(layer)\n",
    "            self.compressed_weights.append(compressed)\n",
    "\n",
    "        self.out = Dense(10, activation='softmax')\n",
    "        self.out.build((None, base_weights[-1][0].shape[0]))\n",
    "        self.out.set_weights(base_weights[-1])\n",
    "\n",
    "    def call(self, x):\n",
    "        x = self.flatten(x)\n",
    "        for layer in self.hidden:\n",
    "            x = layer(x)\n",
    "        return self.out(x)\n"
   ]
  },
  {
   "cell_type": "code",
   "execution_count": null,
   "id": "ykDtxkffJV8Q",
   "metadata": {
    "colab": {
     "base_uri": "https://localhost:8080/"
    },
    "id": "ykDtxkffJV8Q",
    "outputId": "f09d2731-4549-4219-8a2f-4a65d008900a"
   },
   "outputs": [
    {
     "name": "stderr",
     "output_type": "stream",
     "text": [
      "<ipython-input-67-7dd1135ad6a6>:7: RuntimeWarning: invalid value encountered in sqrt\n",
      "  singular_values = np.sqrt(eigenvalues)\n"
     ]
    },
    {
     "name": "stdout",
     "output_type": "stream",
     "text": [
      "Epoch 1/25\n",
      "\u001b[1m938/938\u001b[0m \u001b[32m━━━━━━━━━━━━━━━━━━━━\u001b[0m\u001b[37m\u001b[0m \u001b[1m7s\u001b[0m 5ms/step - accuracy: 0.9692 - loss: 0.1437 - val_accuracy: 0.9792 - val_loss: 0.0822\n",
      "Epoch 2/25\n",
      "\u001b[1m938/938\u001b[0m \u001b[32m━━━━━━━━━━━━━━━━━━━━\u001b[0m\u001b[37m\u001b[0m \u001b[1m4s\u001b[0m 4ms/step - accuracy: 0.9881 - loss: 0.0365 - val_accuracy: 0.9795 - val_loss: 0.0812\n",
      "Epoch 3/25\n",
      "\u001b[1m938/938\u001b[0m \u001b[32m━━━━━━━━━━━━━━━━━━━━\u001b[0m\u001b[37m\u001b[0m \u001b[1m3s\u001b[0m 3ms/step - accuracy: 0.9924 - loss: 0.0219 - val_accuracy: 0.9807 - val_loss: 0.0814\n",
      "Epoch 4/25\n",
      "\u001b[1m938/938\u001b[0m \u001b[32m━━━━━━━━━━━━━━━━━━━━\u001b[0m\u001b[37m\u001b[0m \u001b[1m6s\u001b[0m 4ms/step - accuracy: 0.9941 - loss: 0.0190 - val_accuracy: 0.9826 - val_loss: 0.0775\n",
      "Epoch 5/25\n",
      "\u001b[1m938/938\u001b[0m \u001b[32m━━━━━━━━━━━━━━━━━━━━\u001b[0m\u001b[37m\u001b[0m \u001b[1m5s\u001b[0m 6ms/step - accuracy: 0.9964 - loss: 0.0115 - val_accuracy: 0.9792 - val_loss: 0.0931\n",
      "Epoch 6/25\n",
      "\u001b[1m938/938\u001b[0m \u001b[32m━━━━━━━━━━━━━━━━━━━━\u001b[0m\u001b[37m\u001b[0m \u001b[1m9s\u001b[0m 4ms/step - accuracy: 0.9960 - loss: 0.0121 - val_accuracy: 0.9813 - val_loss: 0.0874\n",
      "Epoch 7/25\n",
      "\u001b[1m938/938\u001b[0m \u001b[32m━━━━━━━━━━━━━━━━━━━━\u001b[0m\u001b[37m\u001b[0m \u001b[1m3s\u001b[0m 4ms/step - accuracy: 0.9968 - loss: 0.0094 - val_accuracy: 0.9806 - val_loss: 0.1108\n",
      "Epoch 8/25\n",
      "\u001b[1m938/938\u001b[0m \u001b[32m━━━━━━━━━━━━━━━━━━━━\u001b[0m\u001b[37m\u001b[0m \u001b[1m3s\u001b[0m 3ms/step - accuracy: 0.9972 - loss: 0.0085 - val_accuracy: 0.9805 - val_loss: 0.1090\n",
      "Epoch 9/25\n",
      "\u001b[1m938/938\u001b[0m \u001b[32m━━━━━━━━━━━━━━━━━━━━\u001b[0m\u001b[37m\u001b[0m \u001b[1m5s\u001b[0m 3ms/step - accuracy: 0.9979 - loss: 0.0072 - val_accuracy: 0.9829 - val_loss: 0.0965\n",
      "Epoch 10/25\n",
      "\u001b[1m938/938\u001b[0m \u001b[32m━━━━━━━━━━━━━━━━━━━━\u001b[0m\u001b[37m\u001b[0m \u001b[1m4s\u001b[0m 4ms/step - accuracy: 0.9979 - loss: 0.0074 - val_accuracy: 0.9814 - val_loss: 0.1003\n",
      "Epoch 11/25\n",
      "\u001b[1m938/938\u001b[0m \u001b[32m━━━━━━━━━━━━━━━━━━━━\u001b[0m\u001b[37m\u001b[0m \u001b[1m5s\u001b[0m 3ms/step - accuracy: 0.9986 - loss: 0.0041 - val_accuracy: 0.9799 - val_loss: 0.1200\n",
      "Epoch 12/25\n",
      "\u001b[1m938/938\u001b[0m \u001b[32m━━━━━━━━━━━━━━━━━━━━\u001b[0m\u001b[37m\u001b[0m \u001b[1m3s\u001b[0m 3ms/step - accuracy: 0.9984 - loss: 0.0053 - val_accuracy: 0.9824 - val_loss: 0.1070\n",
      "Epoch 13/25\n",
      "\u001b[1m938/938\u001b[0m \u001b[32m━━━━━━━━━━━━━━━━━━━━\u001b[0m\u001b[37m\u001b[0m \u001b[1m4s\u001b[0m 4ms/step - accuracy: 0.9990 - loss: 0.0031 - val_accuracy: 0.9765 - val_loss: 0.1489\n",
      "Epoch 14/25\n",
      "\u001b[1m938/938\u001b[0m \u001b[32m━━━━━━━━━━━━━━━━━━━━\u001b[0m\u001b[37m\u001b[0m \u001b[1m3s\u001b[0m 4ms/step - accuracy: 0.9977 - loss: 0.0092 - val_accuracy: 0.9803 - val_loss: 0.1336\n",
      "Epoch 15/25\n",
      "\u001b[1m938/938\u001b[0m \u001b[32m━━━━━━━━━━━━━━━━━━━━\u001b[0m\u001b[37m\u001b[0m \u001b[1m6s\u001b[0m 4ms/step - accuracy: 0.9978 - loss: 0.0083 - val_accuracy: 0.9818 - val_loss: 0.1309\n",
      "Epoch 16/25\n",
      "\u001b[1m938/938\u001b[0m \u001b[32m━━━━━━━━━━━━━━━━━━━━\u001b[0m\u001b[37m\u001b[0m \u001b[1m5s\u001b[0m 4ms/step - accuracy: 0.9987 - loss: 0.0047 - val_accuracy: 0.9834 - val_loss: 0.1091\n",
      "Epoch 17/25\n",
      "\u001b[1m938/938\u001b[0m \u001b[32m━━━━━━━━━━━━━━━━━━━━\u001b[0m\u001b[37m\u001b[0m \u001b[1m5s\u001b[0m 3ms/step - accuracy: 0.9993 - loss: 0.0027 - val_accuracy: 0.9831 - val_loss: 0.1005\n",
      "Epoch 18/25\n",
      "\u001b[1m938/938\u001b[0m \u001b[32m━━━━━━━━━━━━━━━━━━━━\u001b[0m\u001b[37m\u001b[0m \u001b[1m3s\u001b[0m 3ms/step - accuracy: 0.9987 - loss: 0.0038 - val_accuracy: 0.9819 - val_loss: 0.1068\n",
      "Epoch 19/25\n",
      "\u001b[1m938/938\u001b[0m \u001b[32m━━━━━━━━━━━━━━━━━━━━\u001b[0m\u001b[37m\u001b[0m \u001b[1m6s\u001b[0m 4ms/step - accuracy: 0.9991 - loss: 0.0030 - val_accuracy: 0.9828 - val_loss: 0.1100\n",
      "Epoch 20/25\n",
      "\u001b[1m938/938\u001b[0m \u001b[32m━━━━━━━━━━━━━━━━━━━━\u001b[0m\u001b[37m\u001b[0m \u001b[1m3s\u001b[0m 3ms/step - accuracy: 0.9990 - loss: 0.0040 - val_accuracy: 0.9822 - val_loss: 0.1136\n",
      "Epoch 21/25\n",
      "\u001b[1m938/938\u001b[0m \u001b[32m━━━━━━━━━━━━━━━━━━━━\u001b[0m\u001b[37m\u001b[0m \u001b[1m3s\u001b[0m 3ms/step - accuracy: 0.9991 - loss: 0.0037 - val_accuracy: 0.9824 - val_loss: 0.1197\n",
      "Epoch 22/25\n",
      "\u001b[1m938/938\u001b[0m \u001b[32m━━━━━━━━━━━━━━━━━━━━\u001b[0m\u001b[37m\u001b[0m \u001b[1m3s\u001b[0m 3ms/step - accuracy: 0.9989 - loss: 0.0038 - val_accuracy: 0.9824 - val_loss: 0.1459\n",
      "Epoch 23/25\n",
      "\u001b[1m938/938\u001b[0m \u001b[32m━━━━━━━━━━━━━━━━━━━━\u001b[0m\u001b[37m\u001b[0m \u001b[1m6s\u001b[0m 4ms/step - accuracy: 0.9995 - loss: 0.0025 - val_accuracy: 0.9819 - val_loss: 0.1079\n",
      "Epoch 24/25\n",
      "\u001b[1m938/938\u001b[0m \u001b[32m━━━━━━━━━━━━━━━━━━━━\u001b[0m\u001b[37m\u001b[0m \u001b[1m3s\u001b[0m 3ms/step - accuracy: 0.9994 - loss: 0.0021 - val_accuracy: 0.9832 - val_loss: 0.1184\n",
      "Epoch 25/25\n",
      "\u001b[1m938/938\u001b[0m \u001b[32m━━━━━━━━━━━━━━━━━━━━\u001b[0m\u001b[37m\u001b[0m \u001b[1m3s\u001b[0m 3ms/step - accuracy: 0.9992 - loss: 0.0036 - val_accuracy: 0.9810 - val_loss: 0.1269\n"
     ]
    }
   ],
   "source": [
    "def train_compressed_model(x_train, y_train, x_test, y_test, base_model, d=20):\n",
    "    # Extract base model weights\n",
    "    base_weights = [layer.get_weights() for layer in base_model.layers if isinstance(layer, Dense)]\n",
    "\n",
    "    # Initialize compressed model\n",
    "    model = CompressedNN(base_weights, d)\n",
    "\n",
    "    # Compile and train\n",
    "    model.compile(optimizer=Adam(0.0001), loss='sparse_categorical_crossentropy', metrics=['accuracy'])\n",
    "    history = model.fit(x_train, y_train, batch_size=64, epochs=25, validation_data=(x_test, y_test))\n",
    "    return model\n",
    "\n",
    "compressed_model = train_compressed_model(x_train, y_train, x_test, y_test, bline_model, d=20)"
   ]
  },
  {
   "cell_type": "code",
   "execution_count": null,
   "id": "V2OE-OPGJXIK",
   "metadata": {
    "colab": {
     "base_uri": "https://localhost:8080/"
    },
    "id": "V2OE-OPGJXIK",
    "outputId": "02c3255b-45de-4a01-e5dd-f68724c007b5"
   },
   "outputs": [
    {
     "name": "stdout",
     "output_type": "stream",
     "text": [
      "\u001b[1m313/313\u001b[0m \u001b[32m━━━━━━━━━━━━━━━━━━━━\u001b[0m\u001b[37m\u001b[0m \u001b[1m1s\u001b[0m 2ms/step - accuracy: 0.9770 - loss: 0.1655\n",
      "Compressed model accuracy: 98.1%\n"
     ]
    }
   ],
   "source": [
    "test_acc = compressed_model.evaluate(x_test, y_test)[1]\n",
    "print(f\"Compressed model accuracy: {test_acc:.1%}\")"
   ]
  }
 ],
 "metadata": {
  "colab": {
   "provenance": []
  },
  "kernelspec": {
   "display_name": "Python 3.11",
   "language": "python",
   "name": "python3.11"
  },
  "language_info": {
   "codemirror_mode": {
    "name": "ipython",
    "version": 3
   },
   "file_extension": ".py",
   "mimetype": "text/x-python",
   "name": "python",
   "nbconvert_exporter": "python",
   "pygments_lexer": "ipython3",
   "version": "3.11.0"
  }
 },
 "nbformat": 4,
 "nbformat_minor": 5
}
